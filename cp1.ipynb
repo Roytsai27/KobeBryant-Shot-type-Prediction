{
 "cells": [
  {
   "cell_type": "code",
   "execution_count": 1,
   "metadata": {},
   "outputs": [],
   "source": [
    "#import package\n",
    "import numpy as np\n",
    "import pandas as pd\n",
    "import matplotlib.pyplot as plt\n",
    "import math as m\n",
    "from sklearn.linear_model import LogisticRegression\n",
    "from sklearn.model_selection import train_test_split\n",
    "from sklearn.ensemble import RandomForestClassifier"
   ]
  },
  {
   "cell_type": "code",
   "execution_count": 2,
   "metadata": {},
   "outputs": [],
   "source": [
    "#讀取csv檔\n",
    "df,df_test=pd.read_csv(\"train.csv\"),pd.read_csv(\"test.csv\")\n",
    "df=df.fillna(value=0) #將遺漏值補0"
   ]
  },
  {
   "cell_type": "code",
   "execution_count": 3,
   "metadata": {},
   "outputs": [
    {
     "data": {
      "text/plain": [
       "0    2\n",
       "1    1\n",
       "2    1\n",
       "3    5\n",
       "4    2\n",
       "Name: seconds_bin, dtype: int64"
      ]
     },
     "execution_count": 3,
     "metadata": {},
     "output_type": "execute_result"
    }
   ],
   "source": [
    "#將分鐘*60+秒數 並且區分成7群\n",
    "df[\"seconds_bin\"]=pd.cut(df[\"minutes_remaining\"]*60+df[\"seconds_remaining\"],7,labels=range(7))\n",
    "df[\"seconds_bin\"]=df.seconds_bin.astype(int) \n",
    "df[\"seconds_bin\"].head()"
   ]
  },
  {
   "cell_type": "code",
   "execution_count": 4,
   "metadata": {},
   "outputs": [
    {
     "data": {
      "text/plain": [
       "0    6\n",
       "1    4\n",
       "2    6\n",
       "3    5\n",
       "4    4\n",
       "Name: angle_bin, dtype: int64"
      ]
     },
     "execution_count": 4,
     "metadata": {},
     "output_type": "execute_result"
    }
   ],
   "source": [
    "#利用loc_x和loc_y的值來計算出投籃的仰角\n",
    "df[\"angle_bin\"]=pd.cut(df.apply(lambda row: 90 if row[\"loc_y\"]==0 else m.degrees(m.atan(row[\"loc_x\"]/abs(row[\"loc_y\"]))),axis=1),7,labels=range(7))\n",
    "df[\"angle_bin\"]=df.angle_bin.astype(int)\n",
    "df[\"angle_bin\"].head()"
   ]
  },
  {
   "cell_type": "code",
   "execution_count": 5,
   "metadata": {},
   "outputs": [
    {
     "data": {
      "text/plain": [
       "0    299\n",
       "1    112\n",
       "2    125\n",
       "3    534\n",
       "4    269\n",
       "Name: time, dtype: int64"
      ]
     },
     "execution_count": 5,
     "metadata": {},
     "output_type": "execute_result"
    }
   ],
   "source": [
    "#將分鐘*60+秒數\n",
    "df[\"time\"] = df.minutes_remaining*60+df.seconds_remaining\n",
    "df[\"time\"].head()"
   ]
  },
  {
   "cell_type": "code",
   "execution_count": 6,
   "metadata": {},
   "outputs": [
    {
     "data": {
      "text/plain": [
       "0    20120217\n",
       "1    19990420\n",
       "2    20091229\n",
       "3    20000410\n",
       "4    20030218\n",
       "Name: game_date, dtype: int64"
      ]
     },
     "execution_count": 6,
     "metadata": {},
     "output_type": "execute_result"
    }
   ],
   "source": [
    "#將game_date的資料把斜線部分刪掉且把缺失值補零讓位數相等\n",
    "month=[]\n",
    "for i in range(len(df[\"game_date\"])):\n",
    "    if df[\"game_date\"][i][6]==\"/\":\n",
    "        if df[\"game_date\"][i][-2]==\"/\":\n",
    "            month.append(df[\"game_date\"][i][0:4]+\"0\"+df[\"game_date\"][i][5]+\"0\"+df[\"game_date\"][i][-1])\n",
    "        if df[\"game_date\"][i][-2]!=\"/\":\n",
    "            month.append(df[\"game_date\"][i][0:4]+\"0\"+df[\"game_date\"][i][5]+df[\"game_date\"][i][-2:])        \n",
    "    if df[\"game_date\"][i][6]!=\"/\":\n",
    "        if df[\"game_date\"][i][-2]==\"/\":\n",
    "            month.append(df[\"game_date\"][i][0:4]+df[\"game_date\"][i][5:7]+\"0\"+df[\"game_date\"][i][-1])\n",
    "        if df[\"game_date\"][i][-2]!=\"/\":\n",
    "            month.append(df[\"game_date\"][i][0:4]+df[\"game_date\"][i][5:7]+df[\"game_date\"][i][-2:])\n",
    "for i in range(len(month)):\n",
    "    month[i]=int(month[i])\n",
    "df[\"game_date\"]=month\n",
    "df[\"game_date\"].head()"
   ]
  },
  {
   "cell_type": "code",
   "execution_count": 7,
   "metadata": {},
   "outputs": [],
   "source": [
    "#選取出投籃次數最高的前十名\n",
    "df = df[df.action_type.isin(['Jump Shot', 'Layup Shot', 'Driving Layup Shot', 'Turnaround Jump Shot',\n",
    "       'Fadeaway Jump Shot', 'Running Jump Shot', 'Turnaround Fadeaway shot',\n",
    "       'Pullup Jump shot', 'Slam Dunk Shot', 'Reverse Layup Shot'])]"
   ]
  },
  {
   "cell_type": "code",
   "execution_count": 8,
   "metadata": {},
   "outputs": [],
   "source": [
    "#把投籃距離分成兩部分（一部份大於十，一部份小於十）\n",
    "greater10,smaller10 = df[df.shot_distance>10],df[df.shot_distance<10]"
   ]
  },
  {
   "cell_type": "code",
   "execution_count": 9,
   "metadata": {},
   "outputs": [],
   "source": [
    "#取目標值和特徵值\n",
    "labels1=greater10.action_type.values\n",
    "labels2=smaller10.action_type.values\n",
    "features_greater10=greater10[[\"shot_id\",\"lat\",\"loc_x\",\"loc_y\",\"lon\",\"shot_distance\",\n",
    "                              \"period\",\"shot_made_flag\",\"game_date\",\"opponent\",\"seconds_bin\",\"angle_bin\",\"time\"]]\n",
    "features_smaller10=smaller10[[\"shot_id\",\"lat\",\"loc_x\",\"loc_y\",\"lon\",\"shot_distance\",\n",
    "                              \"period\",\"shot_made_flag\",\"game_date\",\"opponent\",\"seconds_bin\",\"angle_bin\",\"time\"]]"
   ]
  },
  {
   "cell_type": "code",
   "execution_count": 10,
   "metadata": {},
   "outputs": [],
   "source": [
    "#讓特徵值中是屬於字串的部分編碼\n",
    "features1=pd.get_dummies(features_greater10)\n",
    "features2=pd.get_dummies(features_smaller10)"
   ]
  },
  {
   "cell_type": "code",
   "execution_count": 11,
   "metadata": {},
   "outputs": [],
   "source": [
    "#把兩格的資料切割成測試資料與訓練資料\n",
    "train_x1,test_x1,train_y1,test_y1=train_test_split(features1,labels1,test_size=0.25,random_state=12)\n",
    "train_x2,test_x2,train_y2,test_y2=train_test_split(features2,labels2,test_size=0.25,random_state=12)"
   ]
  },
  {
   "cell_type": "code",
   "execution_count": 13,
   "metadata": {
    "scrolled": true
   },
   "outputs": [
    {
     "data": {
      "text/plain": [
       "0.8488126649076517"
      ]
     },
     "execution_count": 13,
     "metadata": {},
     "output_type": "execute_result"
    }
   ],
   "source": [
    "#以RandomForestClassifier當作預測模型\n",
    "rf1=RandomForestClassifier(max_depth=8,n_estimators=150).fit(train_x1,train_y1)\n",
    "rf1.score(test_x1,test_y1)"
   ]
  },
  {
   "cell_type": "code",
   "execution_count": 14,
   "metadata": {},
   "outputs": [
    {
     "data": {
      "text/plain": [
       "0.5863874345549738"
      ]
     },
     "execution_count": 14,
     "metadata": {},
     "output_type": "execute_result"
    }
   ],
   "source": [
    "#以RandomForestClassifier當作預測模型\n",
    "rf2 = RandomForestClassifier(max_depth=12,n_estimators=200\n",
    "                             ,min_samples_split=150,min_samples_leaf=8).fit(X=train_x2,y=train_y2)\n",
    "rf2.score(test_x2,test_y2)"
   ]
  },
  {
   "cell_type": "code",
   "execution_count": 16,
   "metadata": {},
   "outputs": [],
   "source": [
    "#分別將測試資料的秒數、投籃仰角做處理 並將遺漏值補0\n",
    "df_test[\"seconds_bin\"]=pd.cut(df_test[\"minutes_remaining\"]*60+df_test[\"seconds_remaining\"],7,labels=range(7))\n",
    "df_test[\"seconds_bin\"]=df_test.seconds_bin.astype(int)\n",
    "df_test[\"angle_bin\"]=pd.cut(df_test.apply(lambda row: 90 if row[\"loc_y\"]==0 else m.degrees(m.atan(row[\"loc_x\"]/abs(row[\"loc_y\"]))),axis=1),7,labels=range(7))\n",
    "df_test[\"angle_bin\"]=df_test.angle_bin.astype(int)\n",
    "df_test[\"time\"] = df_test.minutes_remaining*60+df_test.seconds_remaining\n",
    "df_test=df_test.fillna(value=0)"
   ]
  },
  {
   "cell_type": "code",
   "execution_count": 17,
   "metadata": {},
   "outputs": [],
   "source": [
    "#將game_date的資料把斜線部分刪掉且把缺失值補零讓位數相等\n",
    "month=[]\n",
    "for i in range(len(df_test[\"game_date\"])):\n",
    "    if df_test[\"game_date\"][i][6]==\"/\":\n",
    "        if df_test[\"game_date\"][i][-2]==\"/\":\n",
    "            month.append(df_test[\"game_date\"][i][0:4]+\"0\"+df_test[\"game_date\"][i][5]+\"0\"+df_test[\"game_date\"][i][-1])\n",
    "        if df_test[\"game_date\"][i][-2]!=\"/\":\n",
    "            month.append(df_test[\"game_date\"][i][0:4]+\"0\"+df_test[\"game_date\"][i][5]+df_test[\"game_date\"][i][-2:])\n",
    "            \n",
    "    if df_test[\"game_date\"][i][6]!=\"/\":\n",
    "        if df_test[\"game_date\"][i][-2]==\"/\":\n",
    "            month.append(df_test[\"game_date\"][i][0:4]+df_test[\"game_date\"][i][5:7]+\"0\"+df_test[\"game_date\"][i][-1])\n",
    "        if df_test[\"game_date\"][i][-2]!=\"/\":\n",
    "            month.append(df_test[\"game_date\"][i][0:4]+df_test[\"game_date\"][i][5:7]+df_test[\"game_date\"][i][-2:])\n",
    "for i in range(len(month)):\n",
    "    month[i]=int(month[i])\n",
    "df_test[\"game_date\"]=month"
   ]
  },
  {
   "cell_type": "code",
   "execution_count": 18,
   "metadata": {},
   "outputs": [],
   "source": [
    "#把投籃距離分成兩部分（一部份大於十，一部份小於十）\n",
    "testgreater10,testsmaller10 = df_test[df_test.shot_distance>=10],df_test[df_test.shot_distance<10]\n",
    "#取出index和特徵值\n",
    "tid1,tid2 = testgreater10.index,testsmaller10.index\n",
    "tfeatures_greater10=testgreater10[[\"shot_id\",\"lat\",\"loc_x\",\"loc_y\",\"lon\",\"shot_distance\",\"period\",\"shot_made_flag\",\"game_date\",\"opponent\",\"seconds_bin\",\"angle_bin\",\"time\"]]\n",
    "tfeatures_smaller10=testsmaller10[[\"shot_id\",\"lat\",\"loc_x\",\"loc_y\",\"lon\",\"shot_distance\",\"period\",\"shot_made_flag\",\"game_date\",\"opponent\",\"seconds_bin\",\"angle_bin\",\"time\"]]"
   ]
  },
  {
   "cell_type": "code",
   "execution_count": 19,
   "metadata": {},
   "outputs": [],
   "source": [
    "#讓特徵值中是屬於字串的部分編碼\n",
    "fea_test1=pd.get_dummies(tfeatures_greater10)\n",
    "fea_test2=pd.get_dummies(tfeatures_smaller10)"
   ]
  },
  {
   "cell_type": "code",
   "execution_count": 20,
   "metadata": {},
   "outputs": [],
   "source": [
    "#將所預測的投籃動作寫成一個Series 並依index排列\n",
    "res1 = pd.Series(rf1.predict(fea_test1),index=tid1) "
   ]
  },
  {
   "cell_type": "code",
   "execution_count": 21,
   "metadata": {},
   "outputs": [],
   "source": [
    "#將所預測的投籃動作寫成一個Series 並依index排列\n",
    "res2 = pd.Series(rf2.predict(fea_test2),index=tid2) "
   ]
  },
  {
   "cell_type": "code",
   "execution_count": null,
   "metadata": {
    "scrolled": true
   },
   "outputs": [],
   "source": [
    "#將兩個Series合併成一個\n",
    "ans = pd.concat([res1,res2])"
   ]
  },
  {
   "cell_type": "code",
   "execution_count": null,
   "metadata": {},
   "outputs": [],
   "source": [
    "#將shot_id和action_type寫成DataFrame\n",
    "pred=pd.DataFrame({\"ID\":df_test[\"shot_id\"],\"dd\":ans})"
   ]
  },
  {
   "cell_type": "code",
   "execution_count": null,
   "metadata": {},
   "outputs": [],
   "source": [
    "#將DataFrame匯出csvv\n",
    "pred.to_csv(\"test32.csv\",index=False,header=False)"
   ]
  },
  {
   "cell_type": "code",
   "execution_count": null,
   "metadata": {},
   "outputs": [],
   "source": []
  }
 ],
 "metadata": {
  "kernelspec": {
   "display_name": "Python 3",
   "language": "python",
   "name": "python3"
  },
  "language_info": {
   "codemirror_mode": {
    "name": "ipython",
    "version": 3
   },
   "file_extension": ".py",
   "mimetype": "text/x-python",
   "name": "python",
   "nbconvert_exporter": "python",
   "pygments_lexer": "ipython3",
   "version": "3.6.4"
  }
 },
 "nbformat": 4,
 "nbformat_minor": 2
}
